{
  "nbformat": 4,
  "nbformat_minor": 0,
  "metadata": {
    "colab": {
      "provenance": []
    },
    "kernelspec": {
      "name": "python3",
      "display_name": "Python 3"
    },
    "language_info": {
      "name": "python"
    }
  },
  "cells": [
    {
      "cell_type": "code",
      "execution_count": null,
      "metadata": {
        "colab": {
          "base_uri": "https://localhost:8080/"
        },
        "id": "WRd93BTCl7XL",
        "outputId": "cf85e64c-47e6-429f-ece2-815c74d6821d"
      },
      "outputs": [
        {
          "output_type": "stream",
          "name": "stdout",
          "text": [
            "🤖 Hello! I'm MoodBot! Type 'bye' to exit.\n",
            "\n",
            "You: mood\n",
            "Bot: Hmm, I didn't understand that. Ask me something else!\n",
            "You: happy\n",
            "Bot: That's awesome! I'm glad to hear you're feeling good 😊\n",
            "You: sad\n",
            "Bot: I'm sorry to hear that. I'm here if you want to talk ❤️\n"
          ]
        }
      ],
      "source": [
        "import requests\n",
        "from datetime import datetime\n",
        "\n",
        "# Replace with your actual API keys\n",
        "WEATHER_API_KEY = \"YOUR_WEATHER_API\"\n",
        "NEWS_API_KEY = \"YOUR_NEWSAPI_KEY\"\n",
        "\n",
        "def get_weather(city=\"Delhi\"):\n",
        "    url = f\"https://api.openweathermap.org/data/2.5/weather?q={city}&appid={WEATHER_API_KEY}&units=metric\"\n",
        "    response = requests.get(url)\n",
        "    data = response.json()\n",
        "\n",
        "    if response.status_code == 200:\n",
        "        temp = data[\"main\"][\"temp\"]\n",
        "        description = data[\"weather\"][0][\"description\"]\n",
        "        return f\"The weather in {city} is {description} with a temperature of {temp}°C.\"\n",
        "    else:\n",
        "        return \"Sorry, I couldn't fetch the weather right now.\"\n",
        "\n",
        "def get_news():\n",
        "    url = f\"https://newsapi.org/v2/top-headlines?country=in&apiKey={NEWS_API_KEY}\"\n",
        "    response = requests.get(url)\n",
        "    data = response.json()\n",
        "\n",
        "    if response.status_code == 200:\n",
        "        articles = data[\"articles\"][:3]  # Top 3 headlines\n",
        "        headlines = [f\"📰 {article['title']}\" for article in articles]\n",
        "        return \"\\n\".join(headlines)\n",
        "    else:\n",
        "        return \"Sorry, I couldn't fetch news at the moment.\"\n",
        "\n",
        "def detect_mood(user_input):\n",
        "    if any(word in user_input for word in [\"sad\", \"upset\", \"down\"]):\n",
        "        return \"I'm sorry to hear that. I'm here if you want to talk ❤️\"\n",
        "    elif any(word in user_input for word in [\"happy\", \"excited\", \"great\"]):\n",
        "        return \"That's awesome! I'm glad to hear you're feeling good 😊\"\n",
        "    elif any(word in user_input for word in [\"angry\", \"mad\", \"furious\"]):\n",
        "        return \"Try taking deep breaths. Everything will be okay 🧘‍♂️\"\n",
        "    return None\n",
        "\n",
        "def chatbot():\n",
        "    print(\"🤖 Hello! I'm MoodBot! Type 'bye' to exit.\\n\")\n",
        "\n",
        "    while True:\n",
        "        user_input = input(\"You: \").lower().strip()\n",
        "\n",
        "        if \"hello\" in user_input or \"hi\" in user_input:\n",
        "            print(\"Bot: Hello there! How are you feeling today?\")\n",
        "        elif \"your name\" in user_input:\n",
        "            print(\"Bot: I'm MoodBot, your emotional support chatbot!\")\n",
        "        elif \"how are you\" in user_input:\n",
        "            print(\"Bot: I'm just code, but I'm feeling bug-free today 😄\")\n",
        "        elif \"help\" in user_input:\n",
        "            print(\"Bot: Ask me about mood, time, weather, or news!\")\n",
        "        elif \"time\" in user_input:\n",
        "            now = datetime.now().strftime(\"%H:%M:%S\")\n",
        "            print(f\"Bot: The current time is {now}\")\n",
        "        elif \"weather\" in user_input:\n",
        "            city = input(\"Bot: Which city are you in? \")\n",
        "            print(\"Bot:\", get_weather(city))\n",
        "        elif \"news\" in user_input:\n",
        "            print(\"Bot: Here are the latest headlines:\")\n",
        "            print(get_news())\n",
        "        elif \"bye\" in user_input:\n",
        "            print(\"Bot: Bye! Take care! 👋\")\n",
        "            break\n",
        "        else:\n",
        "            mood_response = detect_mood(user_input)\n",
        "            if mood_response:\n",
        "                print(\"Bot:\", mood_response)\n",
        "            else:\n",
        "                print(\"Bot: Hmm, I didn't understand that. Ask me something else!\")\n",
        "\n",
        "# Start the chatbot\n",
        "chatbot()\n"
      ]
    }
  ]
}